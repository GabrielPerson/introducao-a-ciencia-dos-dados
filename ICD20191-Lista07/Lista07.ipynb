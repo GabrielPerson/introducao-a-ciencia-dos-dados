{
 "cells": [
  {
   "cell_type": "markdown",
   "metadata": {
    "deletable": false,
    "editable": false,
    "nbgrader": {
     "checksum": "3818e732a20a001b7ac976d05bebae38",
     "grade": false,
     "grade_id": "cellc-a00",
     "locked": true,
     "schema_version": 1,
     "solution": false
    }
   },
   "source": [
    "# Lista 07 - Comparando Classificadores"
   ]
  },
  {
   "cell_type": "markdown",
   "metadata": {
    "deletable": false,
    "editable": false,
    "nbgrader": {
     "checksum": "dcdf972c9ddb3c9fbec115bf5320ac5a",
     "grade": false,
     "grade_id": "cell1c-a00",
     "locked": true,
     "schema_version": 1,
     "solution": false
    }
   },
   "source": [
    "# Exercício 01:\n",
    "\n",
    "Analise o desempenho do kNN e de uma Regressão Logística Regularizada para **pelo menos um** dos conjuntos de dados abaixo:\n",
    "\n",
    "* [Avaliação de carros](http://archive.ics.uci.edu/ml/datasets/Car+Evaluation)\n",
    "* [Avaliação de vinhos](http://archive.ics.uci.edu/ml/datasets/Wine+Quality)\n",
    "* [Resultados de partidas do jogo Dota](http://archive.ics.uci.edu/ml/datasets/Dota2+Games+Results) (desafiador!)\n",
    "\n",
    "Para a questão, faça as seguintes tarefas:\n",
    "\n",
    "* Realize treino, validação e teste\n",
    "* Compare as métricas no teste\n",
    "* Reporte a precisão, revocação, F1 e a matriz de confusão\n",
    "\n",
    "Como já estamos no fim da matéria, você pode agora fazer uso da biblioteca scikit-learn. Afinal, no dia a dia, não implementamos tudo do zero. Abaixo temos os imports que vocês precisam. Leiam a API da biblioteca para saber como fazer uso da mesma."
   ]
  },
  {
   "cell_type": "code",
   "execution_count": 5,
   "metadata": {
    "deletable": false,
    "editable": false,
    "nbgrader": {
     "checksum": "4cb9f28f98be7a7173df5ebc7409532e",
     "grade": false,
     "grade_id": "cell-2ce424d4b26d1b9b",
     "locked": true,
     "schema_version": 1,
     "solution": false
    }
   },
   "outputs": [],
   "source": [
    "from sklearn.linear_model import LogisticRegression\n",
    "\n",
    "from sklearn.metrics import confusion_matrix\n",
    "from sklearn.metrics import classification_report\n",
    "from sklearn.metrics import accuracy_score\n",
    "\n",
    "\n",
    "from sklearn.neighbors import KNeighborsClassifier\n",
    "\n",
    "from sklearn.preprocessing import StandardScaler\n",
    "\n",
    "# Um fator importante é que o SKLearn não cria conjuntos de validação para você. Você tem algumas abordagens,\n",
    "# uma é realizar um novo split no treino. Outra é fazer uso de classificadores com CV no fim.\n",
    "# Tipo LogisticRegressionCV (ver na API). Por fim, você pode fazer uso da classe GridSearchCV.\n",
    "# Leia a documentação da mesma.\n",
    "from sklearn.model_selection import train_test_split"
   ]
  },
  {
   "cell_type": "code",
   "execution_count": 6,
   "metadata": {},
   "outputs": [],
   "source": [
    "import pandas as pd\n",
    "import numpy as ply"
   ]
  },
  {
   "cell_type": "code",
   "execution_count": 19,
   "metadata": {
    "deletable": false,
    "nbgrader": {
     "checksum": "d018fd308b76554ff6d37bc9fe82404c",
     "grade": true,
     "grade_id": "cell1-a00",
     "locked": false,
     "points": 1,
     "schema_version": 1,
     "solution": true
    }
   },
   "outputs": [
    {
     "name": "stdout",
     "output_type": "stream",
     "text": [
      "Confusion Matrix - Logistic Regression\n",
      "[[  0   0   3   2   0   0   0]\n",
      " [  0   0  40  15   0   0   0]\n",
      " [  0   0 239 197   2   0   0]\n",
      " [  0   2 121 502  41   0   0]\n",
      " [  0   0  16 193  42   0   0]\n",
      " [  0   0   0  43  11   0   0]\n",
      " [  0   0   0   0   1   0   0]]\n",
      "Scores - Logistic Regression\n",
      "             precision    recall  f1-score   support\n",
      "\n",
      "          3       0.00      0.00      0.00         5\n",
      "          4       0.00      0.00      0.00        55\n",
      "          5       0.57      0.55      0.56       438\n",
      "          6       0.53      0.75      0.62       666\n",
      "          7       0.43      0.17      0.24       251\n",
      "          8       0.00      0.00      0.00        54\n",
      "          9       0.00      0.00      0.00         1\n",
      "\n",
      "avg / total       0.48      0.53      0.49      1470\n",
      "\n",
      "Confusion Matrix - KNN = 20\n",
      "[[  0   0   3   2   0   0   0]\n",
      " [  0   1  34  16   3   1   0]\n",
      " [  0   4 205 189  34   6   0]\n",
      " [  0   8 186 389  73  10   0]\n",
      " [  0   0  39 165  47   0   0]\n",
      " [  0   1   7  30  11   5   0]\n",
      " [  0   1   0   0   0   0   0]]\n",
      "Scores - KNN = 20\n",
      "             precision    recall  f1-score   support\n",
      "\n",
      "          3       0.00      0.00      0.00         5\n",
      "          4       0.07      0.02      0.03        55\n",
      "          5       0.43      0.47      0.45       438\n",
      "          6       0.49      0.58      0.53       666\n",
      "          7       0.28      0.19      0.22       251\n",
      "          8       0.23      0.09      0.13        54\n",
      "          9       0.00      0.00      0.00         1\n",
      "\n",
      "avg / total       0.41      0.44      0.42      1470\n",
      "\n"
     ]
    },
    {
     "name": "stderr",
     "output_type": "stream",
     "text": [
      "/home/gabrielperson/anaconda3/lib/python3.6/site-packages/sklearn/metrics/classification.py:1135: UndefinedMetricWarning: Precision and F-score are ill-defined and being set to 0.0 in labels with no predicted samples.\n",
      "  'precision', 'predicted', average, warn_for)\n"
     ]
    }
   ],
   "source": [
    "# YOUR CODE HERE\n",
    "df = pd.read_csv(\"winequality-white.csv\",sep=';')\n",
    "\n",
    "#Logistic Reg train-test-valid\n",
    "X_train, X_test, y_train, y_test = train_test_split(df.drop('quality',axis=1), df['quality'], test_size=0.30, random_state=101)\n",
    "\n",
    "X_train, X_val, y_train, y_valid = train_test_split(X_train, y_train, test_size=0.3, random_state=101)\n",
    "\n",
    "scaler = StandardScaler()\n",
    "X_new_train = scaler.fit_transform(X_train)\n",
    "\n",
    "X_test = (X_test - X_train.mean()) / X_train.std(ddof=1)\n",
    "X_test_new = scaler.transform(X_test)\n",
    "\n",
    "#KNN train-test-valid\n",
    "X_train_knn, X_test_knn, y_train_knn, y_test_knn = train_test_split(df.drop('quality',axis=1),df['quality'],test_size=0.30, random_state=101)\n",
    "\n",
    "X_train_knn, X_valid_knn, y_train_knn, y_valid_knn = train_test_split(X_train_knn, y_train_knn, test_size=0.3, random_state=101)\n",
    "\n",
    "logmodel = LogisticRegression()\n",
    "logmodel.fit(X_new_train,y_train)\n",
    "pred_log = logmodel.predict(X_test)\n",
    "\n",
    "best = (0,0)\n",
    "for nn in [2, 3, 4, 5, 6, 7, 8, 9, 10, 20]:\n",
    "\n",
    "    knn = KNeighborsClassifier(n_neighbors=nn)\n",
    "    knn.fit(X_train_knn, y_train_knn)\n",
    "    pred_knn = knn.predict(X_valid_knn)\n",
    "\n",
    "    accuracy = accuracy_score(y_valid_knn, pred_knn)\n",
    "    if accuracy > best[0]:\n",
    "        best = (accuracy, nn)\n",
    "\n",
    "        \n",
    "knn = KNeighborsClassifier(n_neighbors=best[1])\n",
    "knn.fit(X_train_knn, y_train_knn)\n",
    "pred_knn = knn.predict(X_test_knn)\n",
    "\n",
    "print(\"Confusion Matrix - Logistic Regression\")\n",
    "print(confusion_matrix(y_test,pred_log))\n",
    "\n",
    "print(\"Scores - Logistic Regression\")\n",
    "print(classification_report(y_test,pred_log))\n",
    "\n",
    "print(\"Confusion Matrix - KNN = \" + str(nn))\n",
    "print(confusion_matrix(y_test,pred_knn))\n",
    "\n",
    "print(\"Scores - KNN = \" + str(nn))\n",
    "print(classification_report(y_test, pred_knn))\n",
    "\n",
    "#raise NotImplementedError()"
   ]
  },
  {
   "cell_type": "markdown",
   "metadata": {
    "deletable": false,
    "editable": false,
    "nbgrader": {
     "checksum": "5326a71f95cf2bff0dc9e8fb2fccd7aa",
     "grade": false,
     "grade_id": "cell-05ec0cf892ddb34e",
     "locked": true,
     "schema_version": 1,
     "solution": false
    }
   },
   "source": [
    "Explique e discuta sobre os resultados encontrados no campo abaixo."
   ]
  },
  {
   "cell_type": "markdown",
   "metadata": {
    "deletable": false,
    "nbgrader": {
     "checksum": "d58eb343f731c93ba8580a101bf55781",
     "grade": true,
     "grade_id": "cell-ff948e4b04b506a6",
     "locked": false,
     "points": 1,
     "schema_version": 1,
     "solution": true
    }
   },
   "source": [
    "YOUR ANSWER HERE\n",
    "\n",
    "Usando a regressão logistica tivemos uma quantidade considerável de predições, porém longe de modelos de regressão linear, tendo precisão abaixo de 0.5, o que é de se esperar quando e não aplicamos redução de dimensionalidade e podemos ter dados ruidosos.\n",
    "O mesmo se observa utilizando KNN com K = 2, todas as metricas de qualificação do modelo tiveram valores abaixo de 0.5 e muitas predições incorretas, ao se observar a matriz de confusão. Certamente podem ser testados valores diferentes de K ou tambem outros modelos de classificação para se tentar uma predição melhor."
   ]
  },
  {
   "cell_type": "code",
   "execution_count": null,
   "metadata": {},
   "outputs": [],
   "source": []
  }
 ],
 "metadata": {
  "kernelspec": {
   "display_name": "Python 3",
   "language": "python",
   "name": "python3"
  },
  "language_info": {
   "codemirror_mode": {
    "name": "ipython",
    "version": 3
   },
   "file_extension": ".py",
   "mimetype": "text/x-python",
   "name": "python",
   "nbconvert_exporter": "python",
   "pygments_lexer": "ipython3",
   "version": "3.6.5"
  }
 },
 "nbformat": 4,
 "nbformat_minor": 2
}
